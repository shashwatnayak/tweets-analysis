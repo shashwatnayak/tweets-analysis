{
 "cells": [
  {
   "cell_type": "code",
   "execution_count": 1,
   "metadata": {},
   "outputs": [
    {
     "name": "stdout",
     "output_type": "stream",
     "text": [
      "RT @BBCSport: Mark Clattenburg has earned high praise from football fans in Saudi Arabia after stopping a game out of respect for the Musli…\n",
      "-0.12000000000000001\n",
      "RT @ChampionsLeague: \"He is eternal. He is football.\" \n",
      "\n",
      "Happy birthday to #UCL &amp; @FCBarcelona legend Xavi Hernández! 🎉🎉🎉 https://t.co/APCkB…\n",
      "1.0\n",
      "@JGlesga I wonder how offended Margaret Thatcher was when we told her to \"Stick Your Poll Tax Up Your Arse!\" at the… https://t.co/WDYeFbE7s6\n",
      "0.0\n",
      "My RS Junior Year was my worst year of football in all 16 years I been playing ball!\n",
      "-1.0\n",
      "The only thing I want to do today is play football\n",
      "0.0\n",
      "@RobbieBarstool the year is 2025- XFL is the prominent football league. Vince takes the mic at the halftime superbo… https://t.co/PLAnd6K5Op\n",
      "0.5\n",
      "Might it just work this time? Maybe not but the NFL is in a rut and timing is better now than even.@WillWestWNML… https://t.co/uIluFJYNSc\n",
      "0.5\n",
      "RT @SkySportsPL: 🆕 This week's MNF Extra with @Carra23 examines Liverpool's struggles when breaking down teams who sit deep and defend. \n",
      "\n",
      "R…\n",
      "-0.051851851851851864\n",
      "Vince McMahon Will Announce New Football League Today https://t.co/sLz4UUePkT https://t.co/q7ROvhiv6i\n",
      "0.13636363636363635\n",
      "@jordanwebb2599 same reason you miss ut football\n",
      "0.0\n",
      "RT @SportsCenter: WWE's Vince McMahon to announce that he will make another attempt at starting a professional football league, per @darren…\n",
      "0.05\n",
      "RT @benbarts: Constraining Football https://t.co/yDRFHHClqx\n",
      "0.0\n",
      "RT @TheArsenalChris: Wenger will make his 10th appearance at Wembley in under 4 years. Winning the last 9 in-a-row, a record in English foo…\n",
      "0.16666666666666666\n",
      "The next football commitment better be good, I’m tired of being disappointed!\n",
      "-0.027500000000000014\n",
      "@_Murden All facts. You know i hate talking football to “fans”. Most people only spew out what they heard commentat… https://t.co/nLbrD459Oz\n",
      "-0.10000000000000002\n"
     ]
    }
   ],
   "source": [
    "import tweepy\n",
    "from tweepy import OAuthHandler, Stream\n",
    "from textblob import TextBlob\n",
    "#Credentials\n",
    "ACCESS_TOKEN = 'your token'\n",
    "ACCESS_TOKEN_SECRET = 'your secret token'\n",
    "CONSUMER_KEY = 'your key'\n",
    "CONSUMER_SECRET = 'your secret key'\n",
    "\n",
    "auth = OAuthHandler(CONSUMER_KEY, CONSUMER_SECRET)\n",
    "auth.set_access_token(ACCESS_TOKEN, ACCESS_TOKEN_SECRET)\n",
    "\n",
    "api = tweepy.API(auth)\n",
    "public_tweets = api.search('Football')\n",
    "\n",
    "for tweets in public_tweets:\n",
    "    print(tweets.text)\n",
    "    analysis = TextBlob(tweets.text)\n",
    "    print(analysis.sentiment.polarity)"
   ]
  },
  {
   "cell_type": "code",
   "execution_count": null,
   "metadata": {},
   "outputs": [],
   "source": []
  }
 ],
 "metadata": {
  "kernelspec": {
   "display_name": "Python 3",
   "language": "python",
   "name": "python3"
  },
  "language_info": {
   "codemirror_mode": {
    "name": "ipython",
    "version": 3
   },
   "file_extension": ".py",
   "mimetype": "text/x-python",
   "name": "python",
   "nbconvert_exporter": "python",
   "pygments_lexer": "ipython3",
   "version": "3.4.5"
  }
 },
 "nbformat": 4,
 "nbformat_minor": 2
}
